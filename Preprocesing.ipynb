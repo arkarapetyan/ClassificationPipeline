{
 "cells": [
  {
   "cell_type": "code",
   "execution_count": 1,
   "id": "e969a6f7",
   "metadata": {},
   "outputs": [
    {
     "name": "stdout",
     "output_type": "stream",
     "text": [
      "4000\n"
     ]
    },
    {
     "data": {
      "text/html": [
       "<div>\n",
       "<style scoped>\n",
       "    .dataframe tbody tr th:only-of-type {\n",
       "        vertical-align: middle;\n",
       "    }\n",
       "\n",
       "    .dataframe tbody tr th {\n",
       "        vertical-align: top;\n",
       "    }\n",
       "\n",
       "    .dataframe thead th {\n",
       "        text-align: right;\n",
       "    }\n",
       "</style>\n",
       "<table border=\"1\" class=\"dataframe\">\n",
       "  <thead>\n",
       "    <tr style=\"text-align: right;\">\n",
       "      <th></th>\n",
       "      <th>ALP_first</th>\n",
       "      <th>ALP_last</th>\n",
       "      <th>ALT_first</th>\n",
       "      <th>ALT_last</th>\n",
       "      <th>AST_first</th>\n",
       "      <th>AST_last</th>\n",
       "      <th>Age</th>\n",
       "      <th>Albumin_first</th>\n",
       "      <th>Albumin_last</th>\n",
       "      <th>BUN_first</th>\n",
       "      <th>...</th>\n",
       "      <th>TroponinT_first</th>\n",
       "      <th>TroponinT_last</th>\n",
       "      <th>UrineOutputSum</th>\n",
       "      <th>WBC_first</th>\n",
       "      <th>WBC_last</th>\n",
       "      <th>Weight</th>\n",
       "      <th>Weight_first</th>\n",
       "      <th>Weight_last</th>\n",
       "      <th>pH_first</th>\n",
       "      <th>pH_last</th>\n",
       "    </tr>\n",
       "  </thead>\n",
       "  <tbody>\n",
       "    <tr>\n",
       "      <th>0</th>\n",
       "      <td>NaN</td>\n",
       "      <td>NaN</td>\n",
       "      <td>NaN</td>\n",
       "      <td>NaN</td>\n",
       "      <td>NaN</td>\n",
       "      <td>NaN</td>\n",
       "      <td>54.0</td>\n",
       "      <td>NaN</td>\n",
       "      <td>NaN</td>\n",
       "      <td>13.0</td>\n",
       "      <td>...</td>\n",
       "      <td>NaN</td>\n",
       "      <td>NaN</td>\n",
       "      <td>NaN</td>\n",
       "      <td>11.2</td>\n",
       "      <td>9.4</td>\n",
       "      <td>NaN</td>\n",
       "      <td>NaN</td>\n",
       "      <td>NaN</td>\n",
       "      <td>NaN</td>\n",
       "      <td>NaN</td>\n",
       "    </tr>\n",
       "    <tr>\n",
       "      <th>1</th>\n",
       "      <td>NaN</td>\n",
       "      <td>NaN</td>\n",
       "      <td>NaN</td>\n",
       "      <td>NaN</td>\n",
       "      <td>NaN</td>\n",
       "      <td>NaN</td>\n",
       "      <td>76.0</td>\n",
       "      <td>NaN</td>\n",
       "      <td>NaN</td>\n",
       "      <td>16.0</td>\n",
       "      <td>...</td>\n",
       "      <td>NaN</td>\n",
       "      <td>NaN</td>\n",
       "      <td>5.0</td>\n",
       "      <td>7.4</td>\n",
       "      <td>13.3</td>\n",
       "      <td>76.0</td>\n",
       "      <td>80.6</td>\n",
       "      <td>81.6</td>\n",
       "      <td>7.45</td>\n",
       "      <td>7.37</td>\n",
       "    </tr>\n",
       "    <tr>\n",
       "      <th>2</th>\n",
       "      <td>127.0</td>\n",
       "      <td>105.0</td>\n",
       "      <td>91.0</td>\n",
       "      <td>75.0</td>\n",
       "      <td>235.0</td>\n",
       "      <td>164.0</td>\n",
       "      <td>44.0</td>\n",
       "      <td>2.7</td>\n",
       "      <td>2.3</td>\n",
       "      <td>8.0</td>\n",
       "      <td>...</td>\n",
       "      <td>NaN</td>\n",
       "      <td>NaN</td>\n",
       "      <td>14.0</td>\n",
       "      <td>4.2</td>\n",
       "      <td>6.2</td>\n",
       "      <td>56.7</td>\n",
       "      <td>56.7</td>\n",
       "      <td>56.7</td>\n",
       "      <td>7.51</td>\n",
       "      <td>7.47</td>\n",
       "    </tr>\n",
       "    <tr>\n",
       "      <th>3</th>\n",
       "      <td>105.0</td>\n",
       "      <td>105.0</td>\n",
       "      <td>12.0</td>\n",
       "      <td>12.0</td>\n",
       "      <td>15.0</td>\n",
       "      <td>15.0</td>\n",
       "      <td>68.0</td>\n",
       "      <td>4.4</td>\n",
       "      <td>4.4</td>\n",
       "      <td>23.0</td>\n",
       "      <td>...</td>\n",
       "      <td>NaN</td>\n",
       "      <td>NaN</td>\n",
       "      <td>NaN</td>\n",
       "      <td>11.5</td>\n",
       "      <td>7.9</td>\n",
       "      <td>84.6</td>\n",
       "      <td>84.6</td>\n",
       "      <td>84.6</td>\n",
       "      <td>NaN</td>\n",
       "      <td>NaN</td>\n",
       "    </tr>\n",
       "    <tr>\n",
       "      <th>4</th>\n",
       "      <td>NaN</td>\n",
       "      <td>NaN</td>\n",
       "      <td>NaN</td>\n",
       "      <td>NaN</td>\n",
       "      <td>NaN</td>\n",
       "      <td>NaN</td>\n",
       "      <td>88.0</td>\n",
       "      <td>3.3</td>\n",
       "      <td>3.3</td>\n",
       "      <td>45.0</td>\n",
       "      <td>...</td>\n",
       "      <td>NaN</td>\n",
       "      <td>NaN</td>\n",
       "      <td>NaN</td>\n",
       "      <td>3.8</td>\n",
       "      <td>4.8</td>\n",
       "      <td>NaN</td>\n",
       "      <td>NaN</td>\n",
       "      <td>NaN</td>\n",
       "      <td>NaN</td>\n",
       "      <td>NaN</td>\n",
       "    </tr>\n",
       "  </tbody>\n",
       "</table>\n",
       "<p>5 rows × 114 columns</p>\n",
       "</div>"
      ],
      "text/plain": [
       "   ALP_first  ALP_last  ALT_first  ALT_last  AST_first  AST_last   Age  \\\n",
       "0        NaN       NaN        NaN       NaN        NaN       NaN  54.0   \n",
       "1        NaN       NaN        NaN       NaN        NaN       NaN  76.0   \n",
       "2      127.0     105.0       91.0      75.0      235.0     164.0  44.0   \n",
       "3      105.0     105.0       12.0      12.0       15.0      15.0  68.0   \n",
       "4        NaN       NaN        NaN       NaN        NaN       NaN  88.0   \n",
       "\n",
       "   Albumin_first  Albumin_last  BUN_first  ...  TroponinT_first  \\\n",
       "0            NaN           NaN       13.0  ...              NaN   \n",
       "1            NaN           NaN       16.0  ...              NaN   \n",
       "2            2.7           2.3        8.0  ...              NaN   \n",
       "3            4.4           4.4       23.0  ...              NaN   \n",
       "4            3.3           3.3       45.0  ...              NaN   \n",
       "\n",
       "   TroponinT_last  UrineOutputSum  WBC_first  WBC_last  Weight  Weight_first  \\\n",
       "0             NaN             NaN       11.2       9.4     NaN           NaN   \n",
       "1             NaN             5.0        7.4      13.3    76.0          80.6   \n",
       "2             NaN            14.0        4.2       6.2    56.7          56.7   \n",
       "3             NaN             NaN       11.5       7.9    84.6          84.6   \n",
       "4             NaN             NaN        3.8       4.8     NaN           NaN   \n",
       "\n",
       "   Weight_last  pH_first  pH_last  \n",
       "0          NaN       NaN      NaN  \n",
       "1         81.6      7.45     7.37  \n",
       "2         56.7      7.51     7.47  \n",
       "3         84.6       NaN      NaN  \n",
       "4          NaN       NaN      NaN  \n",
       "\n",
       "[5 rows x 114 columns]"
      ]
     },
     "execution_count": 1,
     "metadata": {},
     "output_type": "execute_result"
    }
   ],
   "source": [
    "import numpy as np\n",
    "import pandas as pd\n",
    "\n",
    "X_PATH = \"./data/Train.csv\"\n",
    "Y_PATH = \"./data/y.csv\"\n",
    "\n",
    "X = pd.read_csv(X_PATH)\n",
    "y = pd.read_csv(Y_PATH).values.ravel()\n",
    "\n",
    "print(len(X))\n",
    "X.head()"
   ]
  },
  {
   "cell_type": "code",
   "execution_count": 2,
   "id": "f7b3deba",
   "metadata": {},
   "outputs": [],
   "source": [
    "X_index = X.index\n",
    "X_cols = X.columns \n",
    "X = X.values"
   ]
  },
  {
   "cell_type": "markdown",
   "id": "f6bf3a1b",
   "metadata": {},
   "source": [
    "## 1. Imputing Missing Values"
   ]
  },
  {
   "cell_type": "markdown",
   "id": "3ea66edb",
   "metadata": {},
   "source": [
    "### Method1: Median"
   ]
  },
  {
   "cell_type": "code",
   "execution_count": 3,
   "id": "dd5ab4aa",
   "metadata": {},
   "outputs": [],
   "source": [
    "from sklearn.impute import SimpleImputer\n",
    "\n",
    "imputer = SimpleImputer(strategy = \"median\")\n",
    "param_grid = {}"
   ]
  },
  {
   "cell_type": "markdown",
   "id": "d85f5781",
   "metadata": {},
   "source": [
    "### Method2: KNNImpute"
   ]
  },
  {
   "cell_type": "code",
   "execution_count": null,
   "id": "efeb8c1d",
   "metadata": {},
   "outputs": [],
   "source": [
    "from sklearn.impute import KNNImputer\n",
    "\n",
    "imputer = KNNImputer()"
   ]
  },
  {
   "cell_type": "markdown",
   "id": "782964b7",
   "metadata": {},
   "source": [
    "## 2. Handling Class Imbalance"
   ]
  },
  {
   "cell_type": "markdown",
   "id": "206ea961",
   "metadata": {},
   "source": [
    "Let's see how much the data is imbalanced:"
   ]
  },
  {
   "cell_type": "code",
   "execution_count": 4,
   "id": "6fc9ff4d",
   "metadata": {},
   "outputs": [
    {
     "name": "stdout",
     "output_type": "stream",
     "text": [
      "Class1: 3446\n",
      "Class2: 554\n"
     ]
    }
   ],
   "source": [
    "print(f\"Class1: {np.sum(y == 0)}\")\n",
    "print(f\"Class2: {np.sum(y == 1)}\")"
   ]
  },
  {
   "cell_type": "markdown",
   "id": "09a2c6d6",
   "metadata": {},
   "source": [
    "### Method1: Oversampling"
   ]
  },
  {
   "cell_type": "code",
   "execution_count": 6,
   "id": "b8c4b4d6",
   "metadata": {},
   "outputs": [
    {
     "ename": "ImportError",
     "evalue": "cannot import name '_MissingValues' from 'sklearn.utils._param_validation' (C:\\ProgramData\\anaconda3\\Lib\\site-packages\\sklearn\\utils\\_param_validation.py)",
     "output_type": "error",
     "traceback": [
      "\u001B[1;31m---------------------------------------------------------------------------\u001B[0m",
      "\u001B[1;31mImportError\u001B[0m                               Traceback (most recent call last)",
      "Cell \u001B[1;32mIn[6], line 1\u001B[0m\n\u001B[1;32m----> 1\u001B[0m \u001B[38;5;28;01mfrom\u001B[39;00m \u001B[38;5;21;01mimblearn\u001B[39;00m\u001B[38;5;21;01m.\u001B[39;00m\u001B[38;5;21;01mover_sampling\u001B[39;00m \u001B[38;5;28;01mimport\u001B[39;00m RandomOverSampler\n\u001B[0;32m      3\u001B[0m imbalance_handler \u001B[38;5;241m=\u001B[39m RandomOverSampler(random_state\u001B[38;5;241m=\u001B[39m\u001B[38;5;241m42\u001B[39m)\n",
      "File \u001B[1;32mC:\\ProgramData\\anaconda3\\Lib\\site-packages\\imblearn\\__init__.py:52\u001B[0m\n\u001B[0;32m     48\u001B[0m     sys\u001B[38;5;241m.\u001B[39mstderr\u001B[38;5;241m.\u001B[39mwrite(\u001B[38;5;124m\"\u001B[39m\u001B[38;5;124mPartial import of imblearn during the build process.\u001B[39m\u001B[38;5;130;01m\\n\u001B[39;00m\u001B[38;5;124m\"\u001B[39m)\n\u001B[0;32m     49\u001B[0m     \u001B[38;5;66;03m# We are not importing the rest of scikit-learn during the build\u001B[39;00m\n\u001B[0;32m     50\u001B[0m     \u001B[38;5;66;03m# process, as it may not be compiled yet\u001B[39;00m\n\u001B[0;32m     51\u001B[0m \u001B[38;5;28;01melse\u001B[39;00m:\n\u001B[1;32m---> 52\u001B[0m     \u001B[38;5;28;01mfrom\u001B[39;00m \u001B[38;5;21;01m.\u001B[39;00m \u001B[38;5;28;01mimport\u001B[39;00m (\n\u001B[0;32m     53\u001B[0m         combine,\n\u001B[0;32m     54\u001B[0m         ensemble,\n\u001B[0;32m     55\u001B[0m         exceptions,\n\u001B[0;32m     56\u001B[0m         metrics,\n\u001B[0;32m     57\u001B[0m         over_sampling,\n\u001B[0;32m     58\u001B[0m         pipeline,\n\u001B[0;32m     59\u001B[0m         tensorflow,\n\u001B[0;32m     60\u001B[0m         under_sampling,\n\u001B[0;32m     61\u001B[0m         utils,\n\u001B[0;32m     62\u001B[0m     )\n\u001B[0;32m     63\u001B[0m     \u001B[38;5;28;01mfrom\u001B[39;00m \u001B[38;5;21;01m.\u001B[39;00m\u001B[38;5;21;01m_version\u001B[39;00m \u001B[38;5;28;01mimport\u001B[39;00m __version__\n\u001B[0;32m     64\u001B[0m     \u001B[38;5;28;01mfrom\u001B[39;00m \u001B[38;5;21;01m.\u001B[39;00m\u001B[38;5;21;01mbase\u001B[39;00m \u001B[38;5;28;01mimport\u001B[39;00m FunctionSampler\n",
      "File \u001B[1;32mC:\\ProgramData\\anaconda3\\Lib\\site-packages\\imblearn\\combine\\__init__.py:5\u001B[0m\n\u001B[0;32m      1\u001B[0m \u001B[38;5;124;03m\"\"\"The :mod:`imblearn.combine` provides methods which combine\u001B[39;00m\n\u001B[0;32m      2\u001B[0m \u001B[38;5;124;03mover-sampling and under-sampling.\u001B[39;00m\n\u001B[0;32m      3\u001B[0m \u001B[38;5;124;03m\"\"\"\u001B[39;00m\n\u001B[1;32m----> 5\u001B[0m \u001B[38;5;28;01mfrom\u001B[39;00m \u001B[38;5;21;01m.\u001B[39;00m\u001B[38;5;21;01m_smote_enn\u001B[39;00m \u001B[38;5;28;01mimport\u001B[39;00m SMOTEENN\n\u001B[0;32m      6\u001B[0m \u001B[38;5;28;01mfrom\u001B[39;00m \u001B[38;5;21;01m.\u001B[39;00m\u001B[38;5;21;01m_smote_tomek\u001B[39;00m \u001B[38;5;28;01mimport\u001B[39;00m SMOTETomek\n\u001B[0;32m      8\u001B[0m __all__ \u001B[38;5;241m=\u001B[39m [\u001B[38;5;124m\"\u001B[39m\u001B[38;5;124mSMOTEENN\u001B[39m\u001B[38;5;124m\"\u001B[39m, \u001B[38;5;124m\"\u001B[39m\u001B[38;5;124mSMOTETomek\u001B[39m\u001B[38;5;124m\"\u001B[39m]\n",
      "File \u001B[1;32mC:\\ProgramData\\anaconda3\\Lib\\site-packages\\imblearn\\combine\\_smote_enn.py:12\u001B[0m\n\u001B[0;32m      9\u001B[0m \u001B[38;5;28;01mfrom\u001B[39;00m \u001B[38;5;21;01msklearn\u001B[39;00m\u001B[38;5;21;01m.\u001B[39;00m\u001B[38;5;21;01mbase\u001B[39;00m \u001B[38;5;28;01mimport\u001B[39;00m clone\n\u001B[0;32m     10\u001B[0m \u001B[38;5;28;01mfrom\u001B[39;00m \u001B[38;5;21;01msklearn\u001B[39;00m\u001B[38;5;21;01m.\u001B[39;00m\u001B[38;5;21;01mutils\u001B[39;00m \u001B[38;5;28;01mimport\u001B[39;00m check_X_y\n\u001B[1;32m---> 12\u001B[0m \u001B[38;5;28;01mfrom\u001B[39;00m \u001B[38;5;21;01m.\u001B[39;00m\u001B[38;5;21;01m.\u001B[39;00m\u001B[38;5;21;01mbase\u001B[39;00m \u001B[38;5;28;01mimport\u001B[39;00m BaseSampler\n\u001B[0;32m     13\u001B[0m \u001B[38;5;28;01mfrom\u001B[39;00m \u001B[38;5;21;01m.\u001B[39;00m\u001B[38;5;21;01m.\u001B[39;00m\u001B[38;5;21;01mover_sampling\u001B[39;00m \u001B[38;5;28;01mimport\u001B[39;00m SMOTE\n\u001B[0;32m     14\u001B[0m \u001B[38;5;28;01mfrom\u001B[39;00m \u001B[38;5;21;01m.\u001B[39;00m\u001B[38;5;21;01m.\u001B[39;00m\u001B[38;5;21;01mover_sampling\u001B[39;00m\u001B[38;5;21;01m.\u001B[39;00m\u001B[38;5;21;01mbase\u001B[39;00m \u001B[38;5;28;01mimport\u001B[39;00m BaseOverSampler\n",
      "File \u001B[1;32mC:\\ProgramData\\anaconda3\\Lib\\site-packages\\imblearn\\base.py:21\u001B[0m\n\u001B[0;32m     18\u001B[0m \u001B[38;5;28;01mfrom\u001B[39;00m \u001B[38;5;21;01msklearn\u001B[39;00m\u001B[38;5;21;01m.\u001B[39;00m\u001B[38;5;21;01mutils\u001B[39;00m\u001B[38;5;21;01m.\u001B[39;00m\u001B[38;5;21;01mmulticlass\u001B[39;00m \u001B[38;5;28;01mimport\u001B[39;00m check_classification_targets\n\u001B[0;32m     20\u001B[0m \u001B[38;5;28;01mfrom\u001B[39;00m \u001B[38;5;21;01m.\u001B[39;00m\u001B[38;5;21;01mutils\u001B[39;00m \u001B[38;5;28;01mimport\u001B[39;00m check_sampling_strategy, check_target_type\n\u001B[1;32m---> 21\u001B[0m \u001B[38;5;28;01mfrom\u001B[39;00m \u001B[38;5;21;01m.\u001B[39;00m\u001B[38;5;21;01mutils\u001B[39;00m\u001B[38;5;21;01m.\u001B[39;00m\u001B[38;5;21;01m_param_validation\u001B[39;00m \u001B[38;5;28;01mimport\u001B[39;00m validate_parameter_constraints\n\u001B[0;32m     22\u001B[0m \u001B[38;5;28;01mfrom\u001B[39;00m \u001B[38;5;21;01m.\u001B[39;00m\u001B[38;5;21;01mutils\u001B[39;00m\u001B[38;5;21;01m.\u001B[39;00m\u001B[38;5;21;01m_validation\u001B[39;00m \u001B[38;5;28;01mimport\u001B[39;00m ArraysTransformer\n\u001B[0;32m     25\u001B[0m \u001B[38;5;28;01mclass\u001B[39;00m \u001B[38;5;21;01mSamplerMixin\u001B[39;00m(BaseEstimator, metaclass\u001B[38;5;241m=\u001B[39mABCMeta):\n",
      "File \u001B[1;32mC:\\ProgramData\\anaconda3\\Lib\\site-packages\\imblearn\\utils\\_param_validation.py:908\u001B[0m\n\u001B[0;32m    906\u001B[0m \u001B[38;5;28;01mfrom\u001B[39;00m \u001B[38;5;21;01msklearn\u001B[39;00m\u001B[38;5;21;01m.\u001B[39;00m\u001B[38;5;21;01mutils\u001B[39;00m\u001B[38;5;21;01m.\u001B[39;00m\u001B[38;5;21;01m_param_validation\u001B[39;00m \u001B[38;5;28;01mimport\u001B[39;00m generate_valid_param  \u001B[38;5;66;03m# noqa\u001B[39;00m\n\u001B[0;32m    907\u001B[0m \u001B[38;5;28;01mfrom\u001B[39;00m \u001B[38;5;21;01msklearn\u001B[39;00m\u001B[38;5;21;01m.\u001B[39;00m\u001B[38;5;21;01mutils\u001B[39;00m\u001B[38;5;21;01m.\u001B[39;00m\u001B[38;5;21;01m_param_validation\u001B[39;00m \u001B[38;5;28;01mimport\u001B[39;00m validate_parameter_constraints  \u001B[38;5;66;03m# noqa\u001B[39;00m\n\u001B[1;32m--> 908\u001B[0m \u001B[38;5;28;01mfrom\u001B[39;00m \u001B[38;5;21;01msklearn\u001B[39;00m\u001B[38;5;21;01m.\u001B[39;00m\u001B[38;5;21;01mutils\u001B[39;00m\u001B[38;5;21;01m.\u001B[39;00m\u001B[38;5;21;01m_param_validation\u001B[39;00m \u001B[38;5;28;01mimport\u001B[39;00m (\n\u001B[0;32m    909\u001B[0m     HasMethods,\n\u001B[0;32m    910\u001B[0m     Hidden,\n\u001B[0;32m    911\u001B[0m     Interval,\n\u001B[0;32m    912\u001B[0m     Options,\n\u001B[0;32m    913\u001B[0m     StrOptions,\n\u001B[0;32m    914\u001B[0m     _ArrayLikes,\n\u001B[0;32m    915\u001B[0m     _Booleans,\n\u001B[0;32m    916\u001B[0m     _Callables,\n\u001B[0;32m    917\u001B[0m     _CVObjects,\n\u001B[0;32m    918\u001B[0m     _InstancesOf,\n\u001B[0;32m    919\u001B[0m     _IterablesNotString,\n\u001B[0;32m    920\u001B[0m     _MissingValues,\n\u001B[0;32m    921\u001B[0m     _NoneConstraint,\n\u001B[0;32m    922\u001B[0m     _PandasNAConstraint,\n\u001B[0;32m    923\u001B[0m     _RandomStates,\n\u001B[0;32m    924\u001B[0m     _SparseMatrices,\n\u001B[0;32m    925\u001B[0m     _VerboseHelper,\n\u001B[0;32m    926\u001B[0m     make_constraint,\n\u001B[0;32m    927\u001B[0m     validate_params,\n\u001B[0;32m    928\u001B[0m )\n",
      "\u001B[1;31mImportError\u001B[0m: cannot import name '_MissingValues' from 'sklearn.utils._param_validation' (C:\\ProgramData\\anaconda3\\Lib\\site-packages\\sklearn\\utils\\_param_validation.py)"
     ]
    }
   ],
   "source": [
    "from imblearn.over_sampling import RandomOverSampler\n",
    "\n",
    "imbalance_handler = RandomOverSampler(random_state=42)"
   ]
  },
  {
   "cell_type": "markdown",
   "id": "ec889095",
   "metadata": {},
   "source": [
    "### Method2: SMOTE"
   ]
  },
  {
   "cell_type": "code",
   "execution_count": null,
   "id": "1d7dccd7",
   "metadata": {},
   "outputs": [],
   "source": [
    "from imblearn.over_sampling import SMOTE\n",
    "\n",
    "imbalance_handler = SMOTE(random_state=42)"
   ]
  },
  {
   "cell_type": "markdown",
   "id": "4f0512df",
   "metadata": {},
   "source": [
    "### Method3: BorderlineSMOTE"
   ]
  },
  {
   "cell_type": "code",
   "execution_count": 5,
   "id": "4fd7967d",
   "metadata": {},
   "outputs": [
    {
     "ename": "ImportError",
     "evalue": "cannot import name '_MissingValues' from 'sklearn.utils._param_validation' (C:\\ProgramData\\anaconda3\\Lib\\site-packages\\sklearn\\utils\\_param_validation.py)",
     "output_type": "error",
     "traceback": [
      "\u001B[1;31m---------------------------------------------------------------------------\u001B[0m",
      "\u001B[1;31mImportError\u001B[0m                               Traceback (most recent call last)",
      "Cell \u001B[1;32mIn[5], line 1\u001B[0m\n\u001B[1;32m----> 1\u001B[0m \u001B[38;5;28;01mfrom\u001B[39;00m \u001B[38;5;21;01mimblearn\u001B[39;00m\u001B[38;5;21;01m.\u001B[39;00m\u001B[38;5;21;01mover_sampling\u001B[39;00m \u001B[38;5;28;01mimport\u001B[39;00m BorderlineSMOTE\n\u001B[0;32m      3\u001B[0m imbalance_handler \u001B[38;5;241m=\u001B[39m BorderlineSMOTE(random_state\u001B[38;5;241m=\u001B[39m\u001B[38;5;241m42\u001B[39m)\n",
      "File \u001B[1;32mC:\\ProgramData\\anaconda3\\Lib\\site-packages\\imblearn\\__init__.py:52\u001B[0m\n\u001B[0;32m     48\u001B[0m     sys\u001B[38;5;241m.\u001B[39mstderr\u001B[38;5;241m.\u001B[39mwrite(\u001B[38;5;124m\"\u001B[39m\u001B[38;5;124mPartial import of imblearn during the build process.\u001B[39m\u001B[38;5;130;01m\\n\u001B[39;00m\u001B[38;5;124m\"\u001B[39m)\n\u001B[0;32m     49\u001B[0m     \u001B[38;5;66;03m# We are not importing the rest of scikit-learn during the build\u001B[39;00m\n\u001B[0;32m     50\u001B[0m     \u001B[38;5;66;03m# process, as it may not be compiled yet\u001B[39;00m\n\u001B[0;32m     51\u001B[0m \u001B[38;5;28;01melse\u001B[39;00m:\n\u001B[1;32m---> 52\u001B[0m     \u001B[38;5;28;01mfrom\u001B[39;00m \u001B[38;5;21;01m.\u001B[39;00m \u001B[38;5;28;01mimport\u001B[39;00m (\n\u001B[0;32m     53\u001B[0m         combine,\n\u001B[0;32m     54\u001B[0m         ensemble,\n\u001B[0;32m     55\u001B[0m         exceptions,\n\u001B[0;32m     56\u001B[0m         metrics,\n\u001B[0;32m     57\u001B[0m         over_sampling,\n\u001B[0;32m     58\u001B[0m         pipeline,\n\u001B[0;32m     59\u001B[0m         tensorflow,\n\u001B[0;32m     60\u001B[0m         under_sampling,\n\u001B[0;32m     61\u001B[0m         utils,\n\u001B[0;32m     62\u001B[0m     )\n\u001B[0;32m     63\u001B[0m     \u001B[38;5;28;01mfrom\u001B[39;00m \u001B[38;5;21;01m.\u001B[39;00m\u001B[38;5;21;01m_version\u001B[39;00m \u001B[38;5;28;01mimport\u001B[39;00m __version__\n\u001B[0;32m     64\u001B[0m     \u001B[38;5;28;01mfrom\u001B[39;00m \u001B[38;5;21;01m.\u001B[39;00m\u001B[38;5;21;01mbase\u001B[39;00m \u001B[38;5;28;01mimport\u001B[39;00m FunctionSampler\n",
      "File \u001B[1;32mC:\\ProgramData\\anaconda3\\Lib\\site-packages\\imblearn\\combine\\__init__.py:5\u001B[0m\n\u001B[0;32m      1\u001B[0m \u001B[38;5;124;03m\"\"\"The :mod:`imblearn.combine` provides methods which combine\u001B[39;00m\n\u001B[0;32m      2\u001B[0m \u001B[38;5;124;03mover-sampling and under-sampling.\u001B[39;00m\n\u001B[0;32m      3\u001B[0m \u001B[38;5;124;03m\"\"\"\u001B[39;00m\n\u001B[1;32m----> 5\u001B[0m \u001B[38;5;28;01mfrom\u001B[39;00m \u001B[38;5;21;01m.\u001B[39;00m\u001B[38;5;21;01m_smote_enn\u001B[39;00m \u001B[38;5;28;01mimport\u001B[39;00m SMOTEENN\n\u001B[0;32m      6\u001B[0m \u001B[38;5;28;01mfrom\u001B[39;00m \u001B[38;5;21;01m.\u001B[39;00m\u001B[38;5;21;01m_smote_tomek\u001B[39;00m \u001B[38;5;28;01mimport\u001B[39;00m SMOTETomek\n\u001B[0;32m      8\u001B[0m __all__ \u001B[38;5;241m=\u001B[39m [\u001B[38;5;124m\"\u001B[39m\u001B[38;5;124mSMOTEENN\u001B[39m\u001B[38;5;124m\"\u001B[39m, \u001B[38;5;124m\"\u001B[39m\u001B[38;5;124mSMOTETomek\u001B[39m\u001B[38;5;124m\"\u001B[39m]\n",
      "File \u001B[1;32mC:\\ProgramData\\anaconda3\\Lib\\site-packages\\imblearn\\combine\\_smote_enn.py:12\u001B[0m\n\u001B[0;32m      9\u001B[0m \u001B[38;5;28;01mfrom\u001B[39;00m \u001B[38;5;21;01msklearn\u001B[39;00m\u001B[38;5;21;01m.\u001B[39;00m\u001B[38;5;21;01mbase\u001B[39;00m \u001B[38;5;28;01mimport\u001B[39;00m clone\n\u001B[0;32m     10\u001B[0m \u001B[38;5;28;01mfrom\u001B[39;00m \u001B[38;5;21;01msklearn\u001B[39;00m\u001B[38;5;21;01m.\u001B[39;00m\u001B[38;5;21;01mutils\u001B[39;00m \u001B[38;5;28;01mimport\u001B[39;00m check_X_y\n\u001B[1;32m---> 12\u001B[0m \u001B[38;5;28;01mfrom\u001B[39;00m \u001B[38;5;21;01m.\u001B[39;00m\u001B[38;5;21;01m.\u001B[39;00m\u001B[38;5;21;01mbase\u001B[39;00m \u001B[38;5;28;01mimport\u001B[39;00m BaseSampler\n\u001B[0;32m     13\u001B[0m \u001B[38;5;28;01mfrom\u001B[39;00m \u001B[38;5;21;01m.\u001B[39;00m\u001B[38;5;21;01m.\u001B[39;00m\u001B[38;5;21;01mover_sampling\u001B[39;00m \u001B[38;5;28;01mimport\u001B[39;00m SMOTE\n\u001B[0;32m     14\u001B[0m \u001B[38;5;28;01mfrom\u001B[39;00m \u001B[38;5;21;01m.\u001B[39;00m\u001B[38;5;21;01m.\u001B[39;00m\u001B[38;5;21;01mover_sampling\u001B[39;00m\u001B[38;5;21;01m.\u001B[39;00m\u001B[38;5;21;01mbase\u001B[39;00m \u001B[38;5;28;01mimport\u001B[39;00m BaseOverSampler\n",
      "File \u001B[1;32mC:\\ProgramData\\anaconda3\\Lib\\site-packages\\imblearn\\base.py:21\u001B[0m\n\u001B[0;32m     18\u001B[0m \u001B[38;5;28;01mfrom\u001B[39;00m \u001B[38;5;21;01msklearn\u001B[39;00m\u001B[38;5;21;01m.\u001B[39;00m\u001B[38;5;21;01mutils\u001B[39;00m\u001B[38;5;21;01m.\u001B[39;00m\u001B[38;5;21;01mmulticlass\u001B[39;00m \u001B[38;5;28;01mimport\u001B[39;00m check_classification_targets\n\u001B[0;32m     20\u001B[0m \u001B[38;5;28;01mfrom\u001B[39;00m \u001B[38;5;21;01m.\u001B[39;00m\u001B[38;5;21;01mutils\u001B[39;00m \u001B[38;5;28;01mimport\u001B[39;00m check_sampling_strategy, check_target_type\n\u001B[1;32m---> 21\u001B[0m \u001B[38;5;28;01mfrom\u001B[39;00m \u001B[38;5;21;01m.\u001B[39;00m\u001B[38;5;21;01mutils\u001B[39;00m\u001B[38;5;21;01m.\u001B[39;00m\u001B[38;5;21;01m_param_validation\u001B[39;00m \u001B[38;5;28;01mimport\u001B[39;00m validate_parameter_constraints\n\u001B[0;32m     22\u001B[0m \u001B[38;5;28;01mfrom\u001B[39;00m \u001B[38;5;21;01m.\u001B[39;00m\u001B[38;5;21;01mutils\u001B[39;00m\u001B[38;5;21;01m.\u001B[39;00m\u001B[38;5;21;01m_validation\u001B[39;00m \u001B[38;5;28;01mimport\u001B[39;00m ArraysTransformer\n\u001B[0;32m     25\u001B[0m \u001B[38;5;28;01mclass\u001B[39;00m \u001B[38;5;21;01mSamplerMixin\u001B[39;00m(BaseEstimator, metaclass\u001B[38;5;241m=\u001B[39mABCMeta):\n",
      "File \u001B[1;32mC:\\ProgramData\\anaconda3\\Lib\\site-packages\\imblearn\\utils\\_param_validation.py:908\u001B[0m\n\u001B[0;32m    906\u001B[0m \u001B[38;5;28;01mfrom\u001B[39;00m \u001B[38;5;21;01msklearn\u001B[39;00m\u001B[38;5;21;01m.\u001B[39;00m\u001B[38;5;21;01mutils\u001B[39;00m\u001B[38;5;21;01m.\u001B[39;00m\u001B[38;5;21;01m_param_validation\u001B[39;00m \u001B[38;5;28;01mimport\u001B[39;00m generate_valid_param  \u001B[38;5;66;03m# noqa\u001B[39;00m\n\u001B[0;32m    907\u001B[0m \u001B[38;5;28;01mfrom\u001B[39;00m \u001B[38;5;21;01msklearn\u001B[39;00m\u001B[38;5;21;01m.\u001B[39;00m\u001B[38;5;21;01mutils\u001B[39;00m\u001B[38;5;21;01m.\u001B[39;00m\u001B[38;5;21;01m_param_validation\u001B[39;00m \u001B[38;5;28;01mimport\u001B[39;00m validate_parameter_constraints  \u001B[38;5;66;03m# noqa\u001B[39;00m\n\u001B[1;32m--> 908\u001B[0m \u001B[38;5;28;01mfrom\u001B[39;00m \u001B[38;5;21;01msklearn\u001B[39;00m\u001B[38;5;21;01m.\u001B[39;00m\u001B[38;5;21;01mutils\u001B[39;00m\u001B[38;5;21;01m.\u001B[39;00m\u001B[38;5;21;01m_param_validation\u001B[39;00m \u001B[38;5;28;01mimport\u001B[39;00m (\n\u001B[0;32m    909\u001B[0m     HasMethods,\n\u001B[0;32m    910\u001B[0m     Hidden,\n\u001B[0;32m    911\u001B[0m     Interval,\n\u001B[0;32m    912\u001B[0m     Options,\n\u001B[0;32m    913\u001B[0m     StrOptions,\n\u001B[0;32m    914\u001B[0m     _ArrayLikes,\n\u001B[0;32m    915\u001B[0m     _Booleans,\n\u001B[0;32m    916\u001B[0m     _Callables,\n\u001B[0;32m    917\u001B[0m     _CVObjects,\n\u001B[0;32m    918\u001B[0m     _InstancesOf,\n\u001B[0;32m    919\u001B[0m     _IterablesNotString,\n\u001B[0;32m    920\u001B[0m     _MissingValues,\n\u001B[0;32m    921\u001B[0m     _NoneConstraint,\n\u001B[0;32m    922\u001B[0m     _PandasNAConstraint,\n\u001B[0;32m    923\u001B[0m     _RandomStates,\n\u001B[0;32m    924\u001B[0m     _SparseMatrices,\n\u001B[0;32m    925\u001B[0m     _VerboseHelper,\n\u001B[0;32m    926\u001B[0m     make_constraint,\n\u001B[0;32m    927\u001B[0m     validate_params,\n\u001B[0;32m    928\u001B[0m )\n",
      "\u001B[1;31mImportError\u001B[0m: cannot import name '_MissingValues' from 'sklearn.utils._param_validation' (C:\\ProgramData\\anaconda3\\Lib\\site-packages\\sklearn\\utils\\_param_validation.py)"
     ]
    }
   ],
   "source": [
    "from imblearn.over_sampling import BorderlineSMOTE\n",
    "\n",
    "imbalance_handler = BorderlineSMOTE(random_state=42)"
   ]
  },
  {
   "cell_type": "markdown",
   "id": "5d55f1b0",
   "metadata": {},
   "source": [
    "## 3. Removing Outliers"
   ]
  },
  {
   "cell_type": "markdown",
   "id": "4f720885",
   "metadata": {},
   "source": [
    "Taken from https://www.kaggle.com/code/jonaspalucibarbosa/removing-outliers-within-a-pipeline"
   ]
  },
  {
   "cell_type": "code",
   "execution_count": null,
   "id": "f1b295dd",
   "metadata": {},
   "outputs": [],
   "source": [
    "def CustomSampler_IQR (X, y):\n",
    "    \n",
    "    features = X.columns\n",
    "    df = X.copy()\n",
    "    df['Outcome'] = y\n",
    "    \n",
    "    indices = [x for x in df.index]    \n",
    "    out_indexlist = []\n",
    "        \n",
    "    for col in features:\n",
    "       \n",
    "        #Using nanpercentile instead of percentile because of nan values\n",
    "        Q1 = np.nanpercentile(df[col], 25.)\n",
    "        Q3 = np.nanpercentile(df[col], 75.)\n",
    "        \n",
    "        cut_off = (Q3 - Q1) * 1.5\n",
    "        upper, lower = Q3 + cut_off, Q1 - cut_off\n",
    "                \n",
    "        outliers_index = df[col][(df[col] < lower) | (df[col] > upper)].index.tolist()\n",
    "        outliers = df[col][(df[col] < lower) | (df[col] > upper)].values        \n",
    "        out_indexlist.extend(outliers_index)\n",
    "        \n",
    "    #using set to remove duplicates\n",
    "    out_indexlist = list(set(out_indexlist))\n",
    "    \n",
    "    clean_data = np.setdiff1d(indices,out_indexlist)\n",
    "\n",
    "    return X.loc[clean_data].values, y[clean_data]"
   ]
  },
  {
   "cell_type": "code",
   "execution_count": null,
   "id": "40036a7c",
   "metadata": {},
   "outputs": [],
   "source": [
    "X,y = CustomSampler_IQR(pd.DataFrame(X, index = X_index, columns = X_cols), y)"
   ]
  },
  {
   "cell_type": "markdown",
   "id": "6db63cf4",
   "metadata": {},
   "source": [
    "The amount of samples left:"
   ]
  },
  {
   "cell_type": "code",
   "execution_count": null,
   "id": "5b451b33",
   "metadata": {},
   "outputs": [],
   "source": [
    "len(X)"
   ]
  },
  {
   "cell_type": "markdown",
   "id": "8fa64c61",
   "metadata": {},
   "source": [
    "Class balance:"
   ]
  },
  {
   "cell_type": "code",
   "execution_count": null,
   "id": "08bac8f4",
   "metadata": {},
   "outputs": [],
   "source": [
    "print(np.sum(y == 0))\n",
    "print(np.sum(y == 1))"
   ]
  },
  {
   "cell_type": "markdown",
   "id": "ce04c26c",
   "metadata": {},
   "source": [
    "## 4. Feature Scaling"
   ]
  },
  {
   "cell_type": "markdown",
   "id": "45c4a5b3",
   "metadata": {},
   "source": [
    "### Method1: MinMaxScaler"
   ]
  },
  {
   "cell_type": "code",
   "execution_count": null,
   "id": "d4b57bdc",
   "metadata": {},
   "outputs": [],
   "source": [
    "from sklearn.preprocessing import MinMaxScaler\n",
    "\n",
    "scaler = MinMaxScaler()"
   ]
  },
  {
   "cell_type": "markdown",
   "id": "0305366f",
   "metadata": {},
   "source": [
    "### Method2: StandardScaler"
   ]
  },
  {
   "cell_type": "code",
   "execution_count": null,
   "id": "85550b16",
   "metadata": {},
   "outputs": [],
   "source": [
    "from sklearn.preprocessing import StandardScaler\n",
    "\n",
    "scaler = StandardScaler()"
   ]
  },
  {
   "cell_type": "markdown",
   "id": "d58d9cc8",
   "metadata": {},
   "source": [
    "## Baseline Evaluation"
   ]
  },
  {
   "cell_type": "code",
   "execution_count": null,
   "id": "5f7ff774",
   "metadata": {},
   "outputs": [],
   "source": [
    "from sklearn.linear_model import LogisticRegression\n",
    "from sklearn.model_selection import KFold\n",
    "from sklearn.metrics import confusion_matrix, ConfusionMatrixDisplay, auc, roc_curve, matthews_corrcoef\n",
    "\n",
    "model = LogisticRegression(penalty = \"l2\", max_iter = 500)\n",
    "kf = KFold(n_splits=20, shuffle=True, random_state=42)\n",
    "scores = np.zeros(kf.get_n_splits(X))\n",
    "\n",
    "for i, (train_index, test_index) in enumerate(kf.split(X)):\n",
    "    X_train, y_train= X[train_index], y[train_index]\n",
    "    X_test, y_test = X[test_index], y[test_index] \n",
    "    \n",
    "    X_train, y_train = imbalance_handler.fit_resample(X_train, y_train)\n",
    "    X_train = scaler.fit_transform(imputer.fit_transform(X_train))\n",
    "    X_test = scaler.transform(imputer.transform(X_test))    \n",
    "    model.fit(X_train, y_train)\n",
    "    \n",
    "    conf_matrix = confusion_matrix(y_test, model.predict(X_test))\n",
    "    tn, fp, fn, tp = conf_matrix.ravel()\n",
    "    fpr, tpr, thresholds = roc_curve(y_test, model.predict(X_test))\n",
    "    scores[i] = model.score(X_test, y_test)\n",
    "    \n",
    "    print(f\"Fold {i + 1}: \\n\")\n",
    "    print(f\"Confusion Matrix\")\n",
    "    print(f\"{conf_matrix}\\n\")\n",
    "    print(f\"Accuracy: {(tp + tn)/(tp + tn + fn + fp)}\")\n",
    "    print(f\"Precision: {tp / (tp + fp)}\")\n",
    "    print(f\"Recall: {tp / (tp + fn)}\")\n",
    "    print(f\"AUC score: {auc(fpr, tpr)}\")\n",
    "    print(f\"MCC score: {matthews_corrcoef(y_test, model.predict(X_test))}\")\n",
    "    print(f\"F1-Score: {(tp)/(tp+(fp+fn)/2)}\\n\")\n",
    "    print(scores[i])\n",
    "#     fpr = fp/(fp+tn)\n",
    "#     tpr = tp/(tp+fn)\n",
    "    \n",
    "np.mean(scores)"
   ]
  },
  {
   "cell_type": "markdown",
   "id": "91c7ce8c",
   "metadata": {},
   "source": [
    "## Hyperparameter Tuning with GridSearchCV"
   ]
  },
  {
   "cell_type": "code",
   "execution_count": null,
   "id": "0f627b1d",
   "metadata": {
    "scrolled": true
   },
   "outputs": [],
   "source": [
    "from sklearn.pipeline import Pipeline\n",
    "from sklearn.model_selection import GridSearchCV\n",
    "\n",
    "scoring_metric = \"f1\"\n",
    "param_grid = {\"imputer__n_neighbors\" : [1, 3, 7], \"imputer__weights\": [\"uniform\", \"distance\"] }\n",
    "\n",
    "model = LogisticRegression(penalty = \"l2\", max_iter = 500)\n",
    "pipe = Pipeline([(\"imputer\", imputer), ('scaler', StandardScaler()), ('model', model)])\n",
    "grid = GridSearchCV(pipe, param_grid, scoring = scoring_metric, verbose = 3)\n",
    "grid.fit(X, y)"
   ]
  }
 ],
 "metadata": {
  "kernelspec": {
   "display_name": "Python 3 (ipykernel)",
   "language": "python",
   "name": "python3"
  },
  "language_info": {
   "codemirror_mode": {
    "name": "ipython",
    "version": 3
   },
   "file_extension": ".py",
   "mimetype": "text/x-python",
   "name": "python",
   "nbconvert_exporter": "python",
   "pygments_lexer": "ipython3",
   "version": "3.11.4"
  }
 },
 "nbformat": 4,
 "nbformat_minor": 5
}
