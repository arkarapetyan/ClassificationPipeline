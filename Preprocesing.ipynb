{
 "cells": [
  {
   "cell_type": "code",
   "execution_count": 189,
   "id": "e969a6f7",
   "metadata": {},
   "outputs": [],
   "source": [
    "import numpy as np\n",
    "import pandas as pd\n",
    "from sklearn.impute import SimpleImputer, KNNImputer\n",
    "from sklearn.preprocessing import MinMaxScaler, StandardScaler, FunctionTransformer\n",
    "from sklearn.model_selection import KFold, GridSearchCV\n",
    "from sklearn.linear_model import LogisticRegression\n",
    "from sklearn.pipeline import Pipeline"
   ]
  },
  {
   "cell_type": "code",
   "execution_count": 190,
   "id": "f38e831a",
   "metadata": {},
   "outputs": [],
   "source": [
    "X_PATH = \"./data/Train.csv\"\n",
    "Y_PATH = \"./data/y.csv\"\n",
    "\n",
    "X = pd.read_csv(X_PATH)\n",
    "y = pd.read_csv(Y_PATH).values.ravel()"
   ]
  },
  {
   "cell_type": "code",
   "execution_count": 191,
   "id": "0ce0dd35",
   "metadata": {},
   "outputs": [
    {
     "data": {
      "text/plain": [
       "4000"
      ]
     },
     "execution_count": 191,
     "metadata": {},
     "output_type": "execute_result"
    }
   ],
   "source": [
    "len(X)"
   ]
  },
  {
   "cell_type": "code",
   "execution_count": 192,
   "id": "8109447a",
   "metadata": {
    "scrolled": true
   },
   "outputs": [
    {
     "data": {
      "text/html": [
       "<div>\n",
       "<style scoped>\n",
       "    .dataframe tbody tr th:only-of-type {\n",
       "        vertical-align: middle;\n",
       "    }\n",
       "\n",
       "    .dataframe tbody tr th {\n",
       "        vertical-align: top;\n",
       "    }\n",
       "\n",
       "    .dataframe thead th {\n",
       "        text-align: right;\n",
       "    }\n",
       "</style>\n",
       "<table border=\"1\" class=\"dataframe\">\n",
       "  <thead>\n",
       "    <tr style=\"text-align: right;\">\n",
       "      <th></th>\n",
       "      <th>ALP_first</th>\n",
       "      <th>ALP_last</th>\n",
       "      <th>ALT_first</th>\n",
       "      <th>ALT_last</th>\n",
       "      <th>AST_first</th>\n",
       "      <th>AST_last</th>\n",
       "      <th>Age</th>\n",
       "      <th>Albumin_first</th>\n",
       "      <th>Albumin_last</th>\n",
       "      <th>BUN_first</th>\n",
       "      <th>...</th>\n",
       "      <th>TroponinT_first</th>\n",
       "      <th>TroponinT_last</th>\n",
       "      <th>UrineOutputSum</th>\n",
       "      <th>WBC_first</th>\n",
       "      <th>WBC_last</th>\n",
       "      <th>Weight</th>\n",
       "      <th>Weight_first</th>\n",
       "      <th>Weight_last</th>\n",
       "      <th>pH_first</th>\n",
       "      <th>pH_last</th>\n",
       "    </tr>\n",
       "  </thead>\n",
       "  <tbody>\n",
       "    <tr>\n",
       "      <th>0</th>\n",
       "      <td>NaN</td>\n",
       "      <td>NaN</td>\n",
       "      <td>NaN</td>\n",
       "      <td>NaN</td>\n",
       "      <td>NaN</td>\n",
       "      <td>NaN</td>\n",
       "      <td>54.0</td>\n",
       "      <td>NaN</td>\n",
       "      <td>NaN</td>\n",
       "      <td>13.0</td>\n",
       "      <td>...</td>\n",
       "      <td>NaN</td>\n",
       "      <td>NaN</td>\n",
       "      <td>NaN</td>\n",
       "      <td>11.2</td>\n",
       "      <td>9.4</td>\n",
       "      <td>NaN</td>\n",
       "      <td>NaN</td>\n",
       "      <td>NaN</td>\n",
       "      <td>NaN</td>\n",
       "      <td>NaN</td>\n",
       "    </tr>\n",
       "    <tr>\n",
       "      <th>1</th>\n",
       "      <td>NaN</td>\n",
       "      <td>NaN</td>\n",
       "      <td>NaN</td>\n",
       "      <td>NaN</td>\n",
       "      <td>NaN</td>\n",
       "      <td>NaN</td>\n",
       "      <td>76.0</td>\n",
       "      <td>NaN</td>\n",
       "      <td>NaN</td>\n",
       "      <td>16.0</td>\n",
       "      <td>...</td>\n",
       "      <td>NaN</td>\n",
       "      <td>NaN</td>\n",
       "      <td>5.0</td>\n",
       "      <td>7.4</td>\n",
       "      <td>13.3</td>\n",
       "      <td>76.0</td>\n",
       "      <td>80.6</td>\n",
       "      <td>81.6</td>\n",
       "      <td>7.45</td>\n",
       "      <td>7.37</td>\n",
       "    </tr>\n",
       "    <tr>\n",
       "      <th>2</th>\n",
       "      <td>127.0</td>\n",
       "      <td>105.0</td>\n",
       "      <td>91.0</td>\n",
       "      <td>75.0</td>\n",
       "      <td>235.0</td>\n",
       "      <td>164.0</td>\n",
       "      <td>44.0</td>\n",
       "      <td>2.7</td>\n",
       "      <td>2.3</td>\n",
       "      <td>8.0</td>\n",
       "      <td>...</td>\n",
       "      <td>NaN</td>\n",
       "      <td>NaN</td>\n",
       "      <td>14.0</td>\n",
       "      <td>4.2</td>\n",
       "      <td>6.2</td>\n",
       "      <td>56.7</td>\n",
       "      <td>56.7</td>\n",
       "      <td>56.7</td>\n",
       "      <td>7.51</td>\n",
       "      <td>7.47</td>\n",
       "    </tr>\n",
       "    <tr>\n",
       "      <th>3</th>\n",
       "      <td>105.0</td>\n",
       "      <td>105.0</td>\n",
       "      <td>12.0</td>\n",
       "      <td>12.0</td>\n",
       "      <td>15.0</td>\n",
       "      <td>15.0</td>\n",
       "      <td>68.0</td>\n",
       "      <td>4.4</td>\n",
       "      <td>4.4</td>\n",
       "      <td>23.0</td>\n",
       "      <td>...</td>\n",
       "      <td>NaN</td>\n",
       "      <td>NaN</td>\n",
       "      <td>NaN</td>\n",
       "      <td>11.5</td>\n",
       "      <td>7.9</td>\n",
       "      <td>84.6</td>\n",
       "      <td>84.6</td>\n",
       "      <td>84.6</td>\n",
       "      <td>NaN</td>\n",
       "      <td>NaN</td>\n",
       "    </tr>\n",
       "    <tr>\n",
       "      <th>4</th>\n",
       "      <td>NaN</td>\n",
       "      <td>NaN</td>\n",
       "      <td>NaN</td>\n",
       "      <td>NaN</td>\n",
       "      <td>NaN</td>\n",
       "      <td>NaN</td>\n",
       "      <td>88.0</td>\n",
       "      <td>3.3</td>\n",
       "      <td>3.3</td>\n",
       "      <td>45.0</td>\n",
       "      <td>...</td>\n",
       "      <td>NaN</td>\n",
       "      <td>NaN</td>\n",
       "      <td>NaN</td>\n",
       "      <td>3.8</td>\n",
       "      <td>4.8</td>\n",
       "      <td>NaN</td>\n",
       "      <td>NaN</td>\n",
       "      <td>NaN</td>\n",
       "      <td>NaN</td>\n",
       "      <td>NaN</td>\n",
       "    </tr>\n",
       "  </tbody>\n",
       "</table>\n",
       "<p>5 rows × 114 columns</p>\n",
       "</div>"
      ],
      "text/plain": [
       "   ALP_first  ALP_last  ALT_first  ALT_last  AST_first  AST_last   Age  \\\n",
       "0        NaN       NaN        NaN       NaN        NaN       NaN  54.0   \n",
       "1        NaN       NaN        NaN       NaN        NaN       NaN  76.0   \n",
       "2      127.0     105.0       91.0      75.0      235.0     164.0  44.0   \n",
       "3      105.0     105.0       12.0      12.0       15.0      15.0  68.0   \n",
       "4        NaN       NaN        NaN       NaN        NaN       NaN  88.0   \n",
       "\n",
       "   Albumin_first  Albumin_last  BUN_first  ...  TroponinT_first  \\\n",
       "0            NaN           NaN       13.0  ...              NaN   \n",
       "1            NaN           NaN       16.0  ...              NaN   \n",
       "2            2.7           2.3        8.0  ...              NaN   \n",
       "3            4.4           4.4       23.0  ...              NaN   \n",
       "4            3.3           3.3       45.0  ...              NaN   \n",
       "\n",
       "   TroponinT_last  UrineOutputSum  WBC_first  WBC_last  Weight  Weight_first  \\\n",
       "0             NaN             NaN       11.2       9.4     NaN           NaN   \n",
       "1             NaN             5.0        7.4      13.3    76.0          80.6   \n",
       "2             NaN            14.0        4.2       6.2    56.7          56.7   \n",
       "3             NaN             NaN       11.5       7.9    84.6          84.6   \n",
       "4             NaN             NaN        3.8       4.8     NaN           NaN   \n",
       "\n",
       "   Weight_last  pH_first  pH_last  \n",
       "0          NaN       NaN      NaN  \n",
       "1         81.6      7.45     7.37  \n",
       "2         56.7      7.51     7.47  \n",
       "3         84.6       NaN      NaN  \n",
       "4          NaN       NaN      NaN  \n",
       "\n",
       "[5 rows x 114 columns]"
      ]
     },
     "execution_count": 192,
     "metadata": {},
     "output_type": "execute_result"
    }
   ],
   "source": [
    "X.head()"
   ]
  },
  {
   "cell_type": "markdown",
   "id": "5d55f1b0",
   "metadata": {},
   "source": [
    "## Removing Outliers"
   ]
  },
  {
   "cell_type": "markdown",
   "id": "4f720885",
   "metadata": {},
   "source": [
    "Taken from https://www.kaggle.com/code/jonaspalucibarbosa/removing-outliers-within-a-pipeline"
   ]
  },
  {
   "cell_type": "code",
   "execution_count": 193,
   "id": "f1b295dd",
   "metadata": {},
   "outputs": [],
   "source": [
    "def CustomSampler_IQR (X, y):\n",
    "    \n",
    "    features = X.columns\n",
    "    df = X.copy()\n",
    "    df['Outcome'] = y\n",
    "    \n",
    "    indices = [x for x in df.index]    \n",
    "    out_indexlist = []\n",
    "        \n",
    "    for col in features:\n",
    "       \n",
    "        #Using nanpercentile instead of percentile because of nan values\n",
    "        Q1 = np.nanpercentile(df[col], 25.)\n",
    "        Q3 = np.nanpercentile(df[col], 75.)\n",
    "        \n",
    "        cut_off = (Q3 - Q1) * 1.5\n",
    "        upper, lower = Q3 + cut_off, Q1 - cut_off\n",
    "                \n",
    "        outliers_index = df[col][(df[col] < lower) | (df[col] > upper)].index.tolist()\n",
    "        outliers = df[col][(df[col] < lower) | (df[col] > upper)].values        \n",
    "        out_indexlist.extend(outliers_index)\n",
    "        \n",
    "    #using set to remove duplicates\n",
    "    out_indexlist = list(set(out_indexlist))\n",
    "    \n",
    "    clean_data = np.setdiff1d(indices,out_indexlist)\n",
    "\n",
    "    return X.loc[clean_data], y[clean_data]"
   ]
  },
  {
   "cell_type": "code",
   "execution_count": 194,
   "id": "40036a7c",
   "metadata": {},
   "outputs": [],
   "source": [
    "X,y = CustomSampler_IQR(X, y)"
   ]
  },
  {
   "cell_type": "markdown",
   "id": "6db63cf4",
   "metadata": {},
   "source": [
    "We can see that very small amount of samples is left."
   ]
  },
  {
   "cell_type": "code",
   "execution_count": 195,
   "id": "5b451b33",
   "metadata": {},
   "outputs": [
    {
     "data": {
      "text/plain": [
       "594"
      ]
     },
     "execution_count": 195,
     "metadata": {},
     "output_type": "execute_result"
    }
   ],
   "source": [
    "len(X)"
   ]
  },
  {
   "cell_type": "code",
   "execution_count": 196,
   "id": "08bac8f4",
   "metadata": {},
   "outputs": [
    {
     "name": "stdout",
     "output_type": "stream",
     "text": [
      "550\n",
      "44\n"
     ]
    }
   ],
   "source": [
    "print(np.sum(y == 0))\n",
    "print(np.sum(y == 1))"
   ]
  },
  {
   "cell_type": "markdown",
   "id": "f6bf3a1b",
   "metadata": {},
   "source": [
    "## Dropping Nan values"
   ]
  },
  {
   "cell_type": "markdown",
   "id": "3ea66edb",
   "metadata": {},
   "source": [
    "### Method1: Median"
   ]
  },
  {
   "cell_type": "code",
   "execution_count": 175,
   "id": "dd5ab4aa",
   "metadata": {},
   "outputs": [],
   "source": [
    "imputer = SimpleImputer(strategy = \"median\")\n",
    "param_grid = {}"
   ]
  },
  {
   "cell_type": "code",
   "execution_count": 176,
   "id": "87a3d512",
   "metadata": {},
   "outputs": [],
   "source": [
    "X = pd.DataFrame(imputer.fit_transform(X), index=X.index, columns=X.columns)"
   ]
  },
  {
   "cell_type": "markdown",
   "id": "d85f5781",
   "metadata": {},
   "source": [
    "### Method2: KNNImpute"
   ]
  },
  {
   "cell_type": "code",
   "execution_count": 185,
   "id": "efeb8c1d",
   "metadata": {},
   "outputs": [],
   "source": [
    "imputer = KNNImputer()\n",
    "param_grid = {\"imputer__n_neighbors\" : [1, 3, 7], \"imputer__weights\": [\"uniform\", \"distance\"] }"
   ]
  },
  {
   "cell_type": "markdown",
   "id": "e7e3df77",
   "metadata": {},
   "source": [
    "## Fitting to a model"
   ]
  },
  {
   "cell_type": "markdown",
   "id": "d181a140",
   "metadata": {},
   "source": [
    "We can see that the accuracy metric is pretty high, especially when removing outliers. However, the f1 score is quite low and more so with removed outliers. These are due to the following reasons.\n",
    "\n",
    "1. The data is imbalanced, so high accuracy can be achieved only with correct guesing of the class1\n",
    "2. "
   ]
  },
  {
   "cell_type": "code",
   "execution_count": 186,
   "id": "0f627b1d",
   "metadata": {
    "scrolled": true
   },
   "outputs": [
    {
     "name": "stdout",
     "output_type": "stream",
     "text": [
      "Fitting 5 folds for each of 6 candidates, totalling 30 fits\n",
      "[CV 1/5] END imputer__n_neighbors=1, imputer__weights=uniform;, score=0.447 total time=   7.6s\n",
      "[CV 2/5] END imputer__n_neighbors=1, imputer__weights=uniform;, score=0.378 total time=   9.9s\n",
      "[CV 3/5] END imputer__n_neighbors=1, imputer__weights=uniform;, score=0.323 total time=   7.9s\n",
      "[CV 4/5] END imputer__n_neighbors=1, imputer__weights=uniform;, score=0.360 total time=   7.3s\n",
      "[CV 5/5] END imputer__n_neighbors=1, imputer__weights=uniform;, score=0.349 total time=   7.6s\n",
      "[CV 1/5] END imputer__n_neighbors=1, imputer__weights=distance;, score=0.447 total time=   8.0s\n",
      "[CV 2/5] END imputer__n_neighbors=1, imputer__weights=distance;, score=0.378 total time=   7.6s\n",
      "[CV 3/5] END imputer__n_neighbors=1, imputer__weights=distance;, score=0.323 total time=   7.5s\n",
      "[CV 4/5] END imputer__n_neighbors=1, imputer__weights=distance;, score=0.360 total time=   7.6s\n",
      "[CV 5/5] END imputer__n_neighbors=1, imputer__weights=distance;, score=0.349 total time=   7.7s\n",
      "[CV 1/5] END imputer__n_neighbors=3, imputer__weights=uniform;, score=0.398 total time=   8.2s\n",
      "[CV 2/5] END imputer__n_neighbors=3, imputer__weights=uniform;, score=0.361 total time=   8.1s\n",
      "[CV 3/5] END imputer__n_neighbors=3, imputer__weights=uniform;, score=0.306 total time=   7.9s\n",
      "[CV 4/5] END imputer__n_neighbors=3, imputer__weights=uniform;, score=0.312 total time=   7.8s\n",
      "[CV 5/5] END imputer__n_neighbors=3, imputer__weights=uniform;, score=0.339 total time=   7.7s\n",
      "[CV 1/5] END imputer__n_neighbors=3, imputer__weights=distance;, score=0.398 total time=   7.7s\n",
      "[CV 2/5] END imputer__n_neighbors=3, imputer__weights=distance;, score=0.371 total time=   8.0s\n",
      "[CV 3/5] END imputer__n_neighbors=3, imputer__weights=distance;, score=0.306 total time=   7.7s\n",
      "[CV 4/5] END imputer__n_neighbors=3, imputer__weights=distance;, score=0.327 total time=   7.7s\n",
      "[CV 5/5] END imputer__n_neighbors=3, imputer__weights=distance;, score=0.349 total time=   7.7s\n",
      "[CV 1/5] END imputer__n_neighbors=7, imputer__weights=uniform;, score=0.384 total time=   8.4s\n",
      "[CV 2/5] END imputer__n_neighbors=7, imputer__weights=uniform;, score=0.383 total time=   8.4s\n",
      "[CV 3/5] END imputer__n_neighbors=7, imputer__weights=uniform;, score=0.325 total time=   8.6s\n",
      "[CV 4/5] END imputer__n_neighbors=7, imputer__weights=uniform;, score=0.325 total time=   8.7s\n",
      "[CV 5/5] END imputer__n_neighbors=7, imputer__weights=uniform;, score=0.339 total time=   8.9s\n",
      "[CV 1/5] END imputer__n_neighbors=7, imputer__weights=distance;, score=0.391 total time=   8.8s\n",
      "[CV 2/5] END imputer__n_neighbors=7, imputer__weights=distance;, score=0.386 total time=   9.1s\n",
      "[CV 3/5] END imputer__n_neighbors=7, imputer__weights=distance;, score=0.325 total time=   8.8s\n",
      "[CV 4/5] END imputer__n_neighbors=7, imputer__weights=distance;, score=0.327 total time=   8.5s\n",
      "[CV 5/5] END imputer__n_neighbors=7, imputer__weights=distance;, score=0.343 total time=   8.7s\n"
     ]
    },
    {
     "data": {
      "text/html": [
       "<style>#sk-container-id-15 {color: black;}#sk-container-id-15 pre{padding: 0;}#sk-container-id-15 div.sk-toggleable {background-color: white;}#sk-container-id-15 label.sk-toggleable__label {cursor: pointer;display: block;width: 100%;margin-bottom: 0;padding: 0.3em;box-sizing: border-box;text-align: center;}#sk-container-id-15 label.sk-toggleable__label-arrow:before {content: \"▸\";float: left;margin-right: 0.25em;color: #696969;}#sk-container-id-15 label.sk-toggleable__label-arrow:hover:before {color: black;}#sk-container-id-15 div.sk-estimator:hover label.sk-toggleable__label-arrow:before {color: black;}#sk-container-id-15 div.sk-toggleable__content {max-height: 0;max-width: 0;overflow: hidden;text-align: left;background-color: #f0f8ff;}#sk-container-id-15 div.sk-toggleable__content pre {margin: 0.2em;color: black;border-radius: 0.25em;background-color: #f0f8ff;}#sk-container-id-15 input.sk-toggleable__control:checked~div.sk-toggleable__content {max-height: 200px;max-width: 100%;overflow: auto;}#sk-container-id-15 input.sk-toggleable__control:checked~label.sk-toggleable__label-arrow:before {content: \"▾\";}#sk-container-id-15 div.sk-estimator input.sk-toggleable__control:checked~label.sk-toggleable__label {background-color: #d4ebff;}#sk-container-id-15 div.sk-label input.sk-toggleable__control:checked~label.sk-toggleable__label {background-color: #d4ebff;}#sk-container-id-15 input.sk-hidden--visually {border: 0;clip: rect(1px 1px 1px 1px);clip: rect(1px, 1px, 1px, 1px);height: 1px;margin: -1px;overflow: hidden;padding: 0;position: absolute;width: 1px;}#sk-container-id-15 div.sk-estimator {font-family: monospace;background-color: #f0f8ff;border: 1px dotted black;border-radius: 0.25em;box-sizing: border-box;margin-bottom: 0.5em;}#sk-container-id-15 div.sk-estimator:hover {background-color: #d4ebff;}#sk-container-id-15 div.sk-parallel-item::after {content: \"\";width: 100%;border-bottom: 1px solid gray;flex-grow: 1;}#sk-container-id-15 div.sk-label:hover label.sk-toggleable__label {background-color: #d4ebff;}#sk-container-id-15 div.sk-serial::before {content: \"\";position: absolute;border-left: 1px solid gray;box-sizing: border-box;top: 0;bottom: 0;left: 50%;z-index: 0;}#sk-container-id-15 div.sk-serial {display: flex;flex-direction: column;align-items: center;background-color: white;padding-right: 0.2em;padding-left: 0.2em;position: relative;}#sk-container-id-15 div.sk-item {position: relative;z-index: 1;}#sk-container-id-15 div.sk-parallel {display: flex;align-items: stretch;justify-content: center;background-color: white;position: relative;}#sk-container-id-15 div.sk-item::before, #sk-container-id-15 div.sk-parallel-item::before {content: \"\";position: absolute;border-left: 1px solid gray;box-sizing: border-box;top: 0;bottom: 0;left: 50%;z-index: -1;}#sk-container-id-15 div.sk-parallel-item {display: flex;flex-direction: column;z-index: 1;position: relative;background-color: white;}#sk-container-id-15 div.sk-parallel-item:first-child::after {align-self: flex-end;width: 50%;}#sk-container-id-15 div.sk-parallel-item:last-child::after {align-self: flex-start;width: 50%;}#sk-container-id-15 div.sk-parallel-item:only-child::after {width: 0;}#sk-container-id-15 div.sk-dashed-wrapped {border: 1px dashed gray;margin: 0 0.4em 0.5em 0.4em;box-sizing: border-box;padding-bottom: 0.4em;background-color: white;}#sk-container-id-15 div.sk-label label {font-family: monospace;font-weight: bold;display: inline-block;line-height: 1.2em;}#sk-container-id-15 div.sk-label-container {text-align: center;}#sk-container-id-15 div.sk-container {/* jupyter's `normalize.less` sets `[hidden] { display: none; }` but bootstrap.min.css set `[hidden] { display: none !important; }` so we also need the `!important` here to be able to override the default hidden behavior on the sphinx rendered scikit-learn.org. See: https://github.com/scikit-learn/scikit-learn/issues/21755 */display: inline-block !important;position: relative;}#sk-container-id-15 div.sk-text-repr-fallback {display: none;}</style><div id=\"sk-container-id-15\" class=\"sk-top-container\"><div class=\"sk-text-repr-fallback\"><pre>GridSearchCV(estimator=Pipeline(steps=[(&#x27;imputer&#x27;, KNNImputer()),\n",
       "                                       (&#x27;scaler&#x27;, StandardScaler()),\n",
       "                                       (&#x27;model&#x27;,\n",
       "                                        LogisticRegression(max_iter=500))]),\n",
       "             param_grid={&#x27;imputer__n_neighbors&#x27;: [1, 3, 7],\n",
       "                         &#x27;imputer__weights&#x27;: [&#x27;uniform&#x27;, &#x27;distance&#x27;]},\n",
       "             scoring=&#x27;f1&#x27;, verbose=3)</pre><b>In a Jupyter environment, please rerun this cell to show the HTML representation or trust the notebook. <br />On GitHub, the HTML representation is unable to render, please try loading this page with nbviewer.org.</b></div><div class=\"sk-container\" hidden><div class=\"sk-item sk-dashed-wrapped\"><div class=\"sk-label-container\"><div class=\"sk-label sk-toggleable\"><input class=\"sk-toggleable__control sk-hidden--visually\" id=\"sk-estimator-id-71\" type=\"checkbox\" ><label for=\"sk-estimator-id-71\" class=\"sk-toggleable__label sk-toggleable__label-arrow\">GridSearchCV</label><div class=\"sk-toggleable__content\"><pre>GridSearchCV(estimator=Pipeline(steps=[(&#x27;imputer&#x27;, KNNImputer()),\n",
       "                                       (&#x27;scaler&#x27;, StandardScaler()),\n",
       "                                       (&#x27;model&#x27;,\n",
       "                                        LogisticRegression(max_iter=500))]),\n",
       "             param_grid={&#x27;imputer__n_neighbors&#x27;: [1, 3, 7],\n",
       "                         &#x27;imputer__weights&#x27;: [&#x27;uniform&#x27;, &#x27;distance&#x27;]},\n",
       "             scoring=&#x27;f1&#x27;, verbose=3)</pre></div></div></div><div class=\"sk-parallel\"><div class=\"sk-parallel-item\"><div class=\"sk-item\"><div class=\"sk-label-container\"><div class=\"sk-label sk-toggleable\"><input class=\"sk-toggleable__control sk-hidden--visually\" id=\"sk-estimator-id-72\" type=\"checkbox\" ><label for=\"sk-estimator-id-72\" class=\"sk-toggleable__label sk-toggleable__label-arrow\">estimator: Pipeline</label><div class=\"sk-toggleable__content\"><pre>Pipeline(steps=[(&#x27;imputer&#x27;, KNNImputer()), (&#x27;scaler&#x27;, StandardScaler()),\n",
       "                (&#x27;model&#x27;, LogisticRegression(max_iter=500))])</pre></div></div></div><div class=\"sk-serial\"><div class=\"sk-item\"><div class=\"sk-serial\"><div class=\"sk-item\"><div class=\"sk-estimator sk-toggleable\"><input class=\"sk-toggleable__control sk-hidden--visually\" id=\"sk-estimator-id-73\" type=\"checkbox\" ><label for=\"sk-estimator-id-73\" class=\"sk-toggleable__label sk-toggleable__label-arrow\">KNNImputer</label><div class=\"sk-toggleable__content\"><pre>KNNImputer()</pre></div></div></div><div class=\"sk-item\"><div class=\"sk-estimator sk-toggleable\"><input class=\"sk-toggleable__control sk-hidden--visually\" id=\"sk-estimator-id-74\" type=\"checkbox\" ><label for=\"sk-estimator-id-74\" class=\"sk-toggleable__label sk-toggleable__label-arrow\">StandardScaler</label><div class=\"sk-toggleable__content\"><pre>StandardScaler()</pre></div></div></div><div class=\"sk-item\"><div class=\"sk-estimator sk-toggleable\"><input class=\"sk-toggleable__control sk-hidden--visually\" id=\"sk-estimator-id-75\" type=\"checkbox\" ><label for=\"sk-estimator-id-75\" class=\"sk-toggleable__label sk-toggleable__label-arrow\">LogisticRegression</label><div class=\"sk-toggleable__content\"><pre>LogisticRegression(max_iter=500)</pre></div></div></div></div></div></div></div></div></div></div></div></div>"
      ],
      "text/plain": [
       "GridSearchCV(estimator=Pipeline(steps=[('imputer', KNNImputer()),\n",
       "                                       ('scaler', StandardScaler()),\n",
       "                                       ('model',\n",
       "                                        LogisticRegression(max_iter=500))]),\n",
       "             param_grid={'imputer__n_neighbors': [1, 3, 7],\n",
       "                         'imputer__weights': ['uniform', 'distance']},\n",
       "             scoring='f1', verbose=3)"
      ]
     },
     "execution_count": 186,
     "metadata": {},
     "output_type": "execute_result"
    }
   ],
   "source": [
    "scoring_metric = \"f1\"\n",
    "\n",
    "model = LogisticRegression(penalty = \"l2\", max_iter = 500)\n",
    "pipe = Pipeline([(\"imputer\", imputer), ('scaler', StandardScaler()), ('model', model)])\n",
    "grid = GridSearchCV(pipe, param_grid, scoring = scoring_metric, verbose = 3)\n",
    "grid.fit(X, y)"
   ]
  },
  {
   "cell_type": "code",
   "execution_count": 187,
   "id": "52096269",
   "metadata": {},
   "outputs": [
    {
     "data": {
      "text/plain": [
       "0.37140863555128056"
      ]
     },
     "execution_count": 187,
     "metadata": {},
     "output_type": "execute_result"
    }
   ],
   "source": [
    "grid.best_score_"
   ]
  },
  {
   "cell_type": "code",
   "execution_count": 179,
   "id": "a0738dd2",
   "metadata": {},
   "outputs": [
    {
     "data": {
      "text/plain": [
       "{}"
      ]
     },
     "execution_count": 179,
     "metadata": {},
     "output_type": "execute_result"
    }
   ],
   "source": [
    "grid.best_params_"
   ]
  }
 ],
 "metadata": {
  "kernelspec": {
   "display_name": "Python 3 (ipykernel)",
   "language": "python",
   "name": "python3"
  },
  "language_info": {
   "codemirror_mode": {
    "name": "ipython",
    "version": 3
   },
   "file_extension": ".py",
   "mimetype": "text/x-python",
   "name": "python",
   "nbconvert_exporter": "python",
   "pygments_lexer": "ipython3",
   "version": "3.11.4"
  }
 },
 "nbformat": 4,
 "nbformat_minor": 5
}
